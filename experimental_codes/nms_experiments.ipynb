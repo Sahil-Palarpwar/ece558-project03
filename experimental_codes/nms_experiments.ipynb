{
 "cells": [
  {
   "cell_type": "code",
   "execution_count": 1,
   "id": "3237e4af",
   "metadata": {},
   "outputs": [],
   "source": [
    "import numpy as np\n",
    "from nms2d import nms2d\n",
    "from nms3d import nms3d"
   ]
  },
  {
   "cell_type": "code",
   "execution_count": 2,
   "id": "e86072c5",
   "metadata": {},
   "outputs": [
    {
     "data": {
      "text/plain": [
       "array([[6, 4, 4, 1, 7, 1, 2, 6],\n",
       "       [9, 0, 2, 1, 0, 6, 8, 9],\n",
       "       [8, 0, 8, 1, 4, 9, 6, 9],\n",
       "       [6, 5, 8, 4, 2, 1, 5, 7],\n",
       "       [7, 2, 7, 5, 1, 1, 8, 6],\n",
       "       [6, 1, 0, 8, 1, 0, 9, 4]])"
      ]
     },
     "execution_count": 2,
     "metadata": {},
     "output_type": "execute_result"
    }
   ],
   "source": [
    "ran = np.random.randint(10,size = (6,8))\n",
    "ran"
   ]
  },
  {
   "cell_type": "code",
   "execution_count": 3,
   "id": "afa743a4",
   "metadata": {},
   "outputs": [
    {
     "data": {
      "text/plain": [
       "array([[0, 0, 0, 0, 0, 0, 0, 0],\n",
       "       [0, 0, 0, 0, 0, 0, 0, 0],\n",
       "       [0, 0, 1, 0, 0, 1, 0, 0],\n",
       "       [0, 0, 1, 0, 0, 0, 0, 0],\n",
       "       [0, 0, 0, 0, 0, 0, 0, 0],\n",
       "       [0, 0, 0, 0, 0, 0, 0, 0]])"
      ]
     },
     "execution_count": 3,
     "metadata": {},
     "output_type": "execute_result"
    }
   ],
   "source": [
    "ran2 = nms2d(ran)\n",
    "ran2"
   ]
  },
  {
   "cell_type": "code",
   "execution_count": 4,
   "id": "51e3d0af",
   "metadata": {},
   "outputs": [],
   "source": [
    "x = np.nonzero(ran2)"
   ]
  },
  {
   "cell_type": "code",
   "execution_count": 5,
   "id": "2ac74a42",
   "metadata": {},
   "outputs": [
    {
     "data": {
      "text/plain": [
       "(array([2, 2, 3], dtype=int64), array([2, 5, 2], dtype=int64))"
      ]
     },
     "execution_count": 5,
     "metadata": {},
     "output_type": "execute_result"
    }
   ],
   "source": [
    "x"
   ]
  },
  {
   "cell_type": "code",
   "execution_count": 6,
   "id": "91525385",
   "metadata": {},
   "outputs": [
    {
     "data": {
      "text/plain": [
       "2"
      ]
     },
     "execution_count": 6,
     "metadata": {},
     "output_type": "execute_result"
    }
   ],
   "source": [
    "len(x)"
   ]
  },
  {
   "cell_type": "code",
   "execution_count": 7,
   "id": "750f5ce8",
   "metadata": {},
   "outputs": [
    {
     "data": {
      "text/plain": [
       "3"
      ]
     },
     "execution_count": 7,
     "metadata": {},
     "output_type": "execute_result"
    }
   ],
   "source": [
    "x[1].shape[0]"
   ]
  },
  {
   "cell_type": "code",
   "execution_count": 8,
   "id": "7bcb4c6d",
   "metadata": {},
   "outputs": [
    {
     "data": {
      "text/plain": [
       "array([[[3, 0, 2, 7, 6],\n",
       "        [5, 0, 6, 8, 5],\n",
       "        [0, 5, 1, 1, 6],\n",
       "        [5, 4, 7, 7, 4]],\n",
       "\n",
       "       [[7, 2, 5, 5, 9],\n",
       "        [2, 9, 7, 9, 2],\n",
       "        [4, 4, 6, 3, 2],\n",
       "        [1, 6, 3, 0, 1]],\n",
       "\n",
       "       [[4, 8, 6, 0, 9],\n",
       "        [7, 0, 8, 0, 3],\n",
       "        [4, 6, 4, 3, 2],\n",
       "        [4, 3, 3, 3, 7]],\n",
       "\n",
       "       [[0, 8, 4, 9, 9],\n",
       "        [0, 9, 2, 1, 2],\n",
       "        [7, 4, 2, 6, 8],\n",
       "        [2, 8, 8, 6, 7]],\n",
       "\n",
       "       [[3, 9, 3, 0, 8],\n",
       "        [0, 0, 1, 7, 3],\n",
       "        [9, 1, 4, 1, 2],\n",
       "        [5, 4, 4, 0, 1]],\n",
       "\n",
       "       [[9, 2, 7, 3, 3],\n",
       "        [4, 9, 2, 5, 7],\n",
       "        [5, 5, 8, 3, 8],\n",
       "        [8, 2, 6, 3, 9]]])"
      ]
     },
     "execution_count": 8,
     "metadata": {},
     "output_type": "execute_result"
    }
   ],
   "source": [
    "rand = np.random.randint(0,10, size = (6,4,5))\n",
    "rand"
   ]
  },
  {
   "cell_type": "code",
   "execution_count": 9,
   "id": "ce8bab48",
   "metadata": {},
   "outputs": [
    {
     "name": "stdout",
     "output_type": "stream",
     "text": [
      "Slice number: 0\n",
      "Slice number: 1\n",
      "Slice number: 2\n",
      "Slice number: 3\n",
      "Slice number: 4\n",
      "Slice number: 5\n"
     ]
    },
    {
     "data": {
      "text/plain": [
       "array([[[0, 0, 0, 0, 0],\n",
       "        [0, 0, 0, 1, 0],\n",
       "        [0, 0, 0, 0, 0],\n",
       "        [0, 0, 0, 0, 0]],\n",
       "\n",
       "       [[0, 0, 0, 0, 0],\n",
       "        [0, 1, 0, 1, 0],\n",
       "        [0, 0, 0, 0, 0],\n",
       "        [0, 0, 0, 0, 0]],\n",
       "\n",
       "       [[0, 0, 0, 0, 0],\n",
       "        [0, 0, 1, 0, 0],\n",
       "        [0, 0, 0, 0, 0],\n",
       "        [0, 0, 0, 0, 0]],\n",
       "\n",
       "       [[0, 0, 0, 0, 0],\n",
       "        [0, 1, 0, 0, 0],\n",
       "        [0, 0, 0, 0, 0],\n",
       "        [0, 0, 0, 0, 0]],\n",
       "\n",
       "       [[0, 0, 0, 0, 0],\n",
       "        [0, 0, 0, 0, 0],\n",
       "        [0, 0, 0, 0, 0],\n",
       "        [0, 0, 0, 0, 0]],\n",
       "\n",
       "       [[0, 0, 0, 0, 0],\n",
       "        [0, 1, 0, 0, 0],\n",
       "        [0, 0, 0, 0, 0],\n",
       "        [0, 0, 0, 0, 0]]])"
      ]
     },
     "execution_count": 9,
     "metadata": {},
     "output_type": "execute_result"
    }
   ],
   "source": [
    "rand2 = np.copy(rand)\n",
    "for i in range(len(rand)):\n",
    "    print(\"Slice number:\",i)\n",
    "    rand2[i] = nms2d(rand[i])\n",
    "rand2"
   ]
  },
  {
   "cell_type": "code",
   "execution_count": 10,
   "id": "8a5968f6",
   "metadata": {},
   "outputs": [
    {
     "name": "stdout",
     "output_type": "stream",
     "text": [
      "length of binary array: 6\n",
      "slice number: 0\n",
      "length of nonzero output array: 2\n",
      "length of the tuple is: 1\n",
      "index of the maxima location to be checked: 0\n",
      "length of nonzero output array: 2\n",
      "length of the tuple is: 0\n",
      "slice number: 1\n",
      "length of nonzero output array: 2\n",
      "length of the tuple is: 2\n",
      "index of the maxima location to be checked: 0\n",
      "index of the maxima location to be checked: 1\n",
      "slice number: 2\n",
      "length of nonzero output array: 2\n",
      "length of the tuple is: 1\n",
      "index of the maxima location to be checked: 0\n",
      "slice number: 3\n",
      "length of nonzero output array: 2\n",
      "length of the tuple is: 1\n",
      "index of the maxima location to be checked: 0\n",
      "slice number: 4\n",
      "length of nonzero output array: 2\n",
      "length of the tuple is: 0\n",
      "slice number: 5\n",
      "length of nonzero output array: 1\n",
      "length of the tuple is: 0\n",
      "(array([], dtype=int64),)\n"
     ]
    }
   ],
   "source": [
    "rand3 = nms3d(rand2, rand)"
   ]
  },
  {
   "cell_type": "code",
   "execution_count": 11,
   "id": "275afb17",
   "metadata": {},
   "outputs": [
    {
     "data": {
      "text/plain": [
       "array([[[0, 0, 0, 0, 0],\n",
       "        [0, 0, 0, 0, 0],\n",
       "        [0, 0, 0, 0, 0],\n",
       "        [0, 0, 0, 0, 0]],\n",
       "\n",
       "       [[0, 0, 0, 0, 0],\n",
       "        [0, 1, 0, 1, 0],\n",
       "        [0, 0, 0, 0, 0],\n",
       "        [0, 0, 0, 0, 0]],\n",
       "\n",
       "       [[0, 0, 0, 0, 0],\n",
       "        [0, 0, 0, 0, 0],\n",
       "        [0, 0, 0, 0, 0],\n",
       "        [0, 0, 0, 0, 0]],\n",
       "\n",
       "       [[0, 0, 0, 0, 0],\n",
       "        [0, 1, 0, 0, 0],\n",
       "        [0, 0, 0, 0, 0],\n",
       "        [0, 0, 0, 0, 0]],\n",
       "\n",
       "       [[0, 0, 0, 0, 0],\n",
       "        [0, 0, 0, 0, 0],\n",
       "        [0, 0, 0, 0, 0],\n",
       "        [0, 0, 0, 0, 0]],\n",
       "\n",
       "       [[0, 0, 0, 0, 0],\n",
       "        [0, 1, 0, 0, 0],\n",
       "        [0, 0, 0, 0, 0],\n",
       "        [0, 0, 0, 0, 0]]])"
      ]
     },
     "execution_count": 11,
     "metadata": {},
     "output_type": "execute_result"
    }
   ],
   "source": [
    "rand3"
   ]
  },
  {
   "cell_type": "code",
   "execution_count": null,
   "id": "4cd6c6c7",
   "metadata": {},
   "outputs": [],
   "source": []
  }
 ],
 "metadata": {
  "kernelspec": {
   "display_name": "Python 3",
   "language": "python",
   "name": "python3"
  },
  "language_info": {
   "codemirror_mode": {
    "name": "ipython",
    "version": 3
   },
   "file_extension": ".py",
   "mimetype": "text/x-python",
   "name": "python",
   "nbconvert_exporter": "python",
   "pygments_lexer": "ipython3",
   "version": "3.9.6"
  }
 },
 "nbformat": 4,
 "nbformat_minor": 5
}
